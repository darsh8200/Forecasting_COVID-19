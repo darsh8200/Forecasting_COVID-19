{
  "nbformat": 4,
  "nbformat_minor": 0,
  "metadata": {
    "colab": {
      "name": "Dharmik_GRU.ipynb",
      "provenance": [],
      "collapsed_sections": [],
      "authorship_tag": "ABX9TyOU0yZAQ2uEYmp4nAz/jrrP",
      "include_colab_link": true
    },
    "kernelspec": {
      "name": "python3",
      "display_name": "Python 3"
    }
  },
  "cells": [
    {
      "cell_type": "markdown",
      "metadata": {
        "id": "view-in-github",
        "colab_type": "text"
      },
      "source": [
        "<a href=\"https://colab.research.google.com/github/bolt25/Forecasting_COVID-19/blob/master/Dharmik_GRU.ipynb\" target=\"_parent\"><img src=\"https://colab.research.google.com/assets/colab-badge.svg\" alt=\"Open In Colab\"/></a>"
      ]
    },
    {
      "cell_type": "code",
      "metadata": {
        "id": "bBCpHC4DT9MI",
        "outputId": "cb4798fd-a838-41cc-8460-2727620ceee3",
        "colab": {
          "base_uri": "https://localhost:8080/",
          "height": 54
        }
      },
      "source": [
        "from google.colab import drive\n",
        "drive.mount('/gdrive')\n",
        "%cd /gdrive"
      ],
      "execution_count": 1,
      "outputs": [
        {
          "output_type": "stream",
          "text": [
            "Mounted at /gdrive\n",
            "/gdrive\n"
          ],
          "name": "stdout"
        }
      ]
    },
    {
      "cell_type": "code",
      "metadata": {
        "id": "wIgvPeQPT-WK",
        "outputId": "fcbc7867-1aae-422e-d6e7-1fe14e3af94a",
        "colab": {
          "base_uri": "https://localhost:8080/",
          "height": 35
        }
      },
      "source": [
        "%cd 'My Drive/Forecasting/Dataset'"
      ],
      "execution_count": 2,
      "outputs": [
        {
          "output_type": "stream",
          "text": [
            "/gdrive/My Drive/Forecasting/Dataset\n"
          ],
          "name": "stdout"
        }
      ]
    },
    {
      "cell_type": "code",
      "metadata": {
        "id": "loXCdMfCUUCx"
      },
      "source": [
        "import torch\n",
        "import torch.nn as nn\n",
        "import torchvision\n",
        "import torchvision.transforms as transforms\n",
        "import pandas as pd\n",
        "from sklearn.model_selection import train_test_split\n",
        "from torch.utils.data import TensorDataset, DataLoader\n",
        "import sklearn\n",
        "import matplotlib.pyplot as plt"
      ],
      "execution_count": 3,
      "outputs": []
    },
    {
      "cell_type": "code",
      "metadata": {
        "id": "NQjeFU1Bze-X",
        "outputId": "47668e49-35cc-4d93-a220-21f37c1f7cd9",
        "colab": {
          "base_uri": "https://localhost:8080/",
          "height": 206
        }
      },
      "source": [
        "df = pd.read_csv('case_time_series.csv')\n",
        "df.head()"
      ],
      "execution_count": 40,
      "outputs": [
        {
          "output_type": "execute_result",
          "data": {
            "text/html": [
              "<div>\n",
              "<style scoped>\n",
              "    .dataframe tbody tr th:only-of-type {\n",
              "        vertical-align: middle;\n",
              "    }\n",
              "\n",
              "    .dataframe tbody tr th {\n",
              "        vertical-align: top;\n",
              "    }\n",
              "\n",
              "    .dataframe thead th {\n",
              "        text-align: right;\n",
              "    }\n",
              "</style>\n",
              "<table border=\"1\" class=\"dataframe\">\n",
              "  <thead>\n",
              "    <tr style=\"text-align: right;\">\n",
              "      <th></th>\n",
              "      <th>Date</th>\n",
              "      <th>Daily Confirmed</th>\n",
              "      <th>Total Confirmed</th>\n",
              "      <th>Daily Recovered</th>\n",
              "      <th>Total Recovered</th>\n",
              "      <th>Daily Deceased</th>\n",
              "      <th>Total Deceased</th>\n",
              "    </tr>\n",
              "  </thead>\n",
              "  <tbody>\n",
              "    <tr>\n",
              "      <th>0</th>\n",
              "      <td>30 January</td>\n",
              "      <td>1</td>\n",
              "      <td>1</td>\n",
              "      <td>0</td>\n",
              "      <td>0</td>\n",
              "      <td>0</td>\n",
              "      <td>0</td>\n",
              "    </tr>\n",
              "    <tr>\n",
              "      <th>1</th>\n",
              "      <td>31 January</td>\n",
              "      <td>0</td>\n",
              "      <td>1</td>\n",
              "      <td>0</td>\n",
              "      <td>0</td>\n",
              "      <td>0</td>\n",
              "      <td>0</td>\n",
              "    </tr>\n",
              "    <tr>\n",
              "      <th>2</th>\n",
              "      <td>01 February</td>\n",
              "      <td>0</td>\n",
              "      <td>1</td>\n",
              "      <td>0</td>\n",
              "      <td>0</td>\n",
              "      <td>0</td>\n",
              "      <td>0</td>\n",
              "    </tr>\n",
              "    <tr>\n",
              "      <th>3</th>\n",
              "      <td>02 February</td>\n",
              "      <td>1</td>\n",
              "      <td>2</td>\n",
              "      <td>0</td>\n",
              "      <td>0</td>\n",
              "      <td>0</td>\n",
              "      <td>0</td>\n",
              "    </tr>\n",
              "    <tr>\n",
              "      <th>4</th>\n",
              "      <td>03 February</td>\n",
              "      <td>1</td>\n",
              "      <td>3</td>\n",
              "      <td>0</td>\n",
              "      <td>0</td>\n",
              "      <td>0</td>\n",
              "      <td>0</td>\n",
              "    </tr>\n",
              "  </tbody>\n",
              "</table>\n",
              "</div>"
            ],
            "text/plain": [
              "           Date  Daily Confirmed  ...  Daily Deceased  Total Deceased\n",
              "0   30 January                 1  ...               0               0\n",
              "1   31 January                 0  ...               0               0\n",
              "2  01 February                 0  ...               0               0\n",
              "3  02 February                 1  ...               0               0\n",
              "4  03 February                 1  ...               0               0\n",
              "\n",
              "[5 rows x 7 columns]"
            ]
          },
          "metadata": {
            "tags": []
          },
          "execution_count": 40
        }
      ]
    },
    {
      "cell_type": "code",
      "metadata": {
        "id": "Hmgh_828zzAH"
      },
      "source": [
        "# 0 -> 30 Jan\n",
        "# 254 -> 10 Oct"
      ],
      "execution_count": 41,
      "outputs": []
    },
    {
      "cell_type": "code",
      "metadata": {
        "id": "IQi-r3M9AC2q",
        "outputId": "ecac35d6-203f-4870-f469-df99c61feaf6",
        "colab": {
          "base_uri": "https://localhost:8080/",
          "height": 729
        }
      },
      "source": [
        "increase = df['Daily Confirmed'] - df['Daily Recovered'] - df['Daily Deceased']\n",
        "fig,(a1, a2, a3, a4) = plt.subplots(nrows=4, ncols=1, figsize=(15, 10))\n",
        "a1.plot(df['Daily Confirmed'])\n",
        "a1.set_title('Daily Confirmed')\n",
        "a2.plot(df['Daily Recovered'], color = 'green')\n",
        "a2.set_title('Daily Recovered')\n",
        "a3.plot(df['Daily Deceased'], color= 'red')\n",
        "a3.set_title('Daily Deceased')\n",
        "a4.plot(increase, color= 'black')\n",
        "a4.set_title('Daily Increase')  # from this grapg we can infer that lately the number of increase in daily positive patients is going down (i.e no of people testing positive is less when compared to number of people getting recovered or deaths reported)\n",
        "fig.tight_layout()"
      ],
      "execution_count": 42,
      "outputs": [
        {
          "output_type": "display_data",
          "data": {
            "image/png": "[encoded data removed]",
            "text/plain": [
              "<Figure size 1080x720 with 4 Axes>"
            ]
          },
          "metadata": {
            "tags": [],
            "needs_background": "light"
          }
        }
      ]
    },
    {
      "cell_type": "code",
      "metadata": {
        "id": "w5VriCejzy9t",
        "outputId": "8eac02ed-4399-4001-caa2-2a133309c5ef",
        "colab": {
          "base_uri": "https://localhost:8080/",
          "height": 35
        }
      },
      "source": [
        "df = df[['Daily Confirmed', 'Daily Recovered', 'Daily Deceased']]\n",
        "sc = sklearn.preprocessing.MinMaxScaler(feature_range=(-1, 1))\n",
        "data = sc.fit_transform(df.values)\n",
        "data = pd.DataFrame(data)\n",
        "data.shape"
      ],
      "execution_count": 43,
      "outputs": [
        {
          "output_type": "execute_result",
          "data": {
            "text/plain": [
              "(255, 3)"
            ]
          },
          "metadata": {
            "tags": []
          },
          "execution_count": 43
        }
      ]
    },
    {
      "cell_type": "code",
      "metadata": {
        "id": "1-FG4Md50jer"
      },
      "source": [
        "#------------------------------->Data for daily confirmed prediction <------------------\n",
        "data_train = data.loc[:239].to_numpy()\n",
        "label_train = data.loc[:239, 0].to_numpy() #df.loc[:239,'Daily Confirmed'].to_numpy()\n",
        "data_test = data.loc[240:].to_numpy()\n",
        "label_test = data.loc[240:, 0].to_numpy() #df.loc[240:,'Daily Confirmed'].to_numpy()"
      ],
      "execution_count": 44,
      "outputs": []
    },
    {
      "cell_type": "code",
      "metadata": {
        "id": "eTBq2tVo3O2F"
      },
      "source": [
        "# ------------------------------> HYPERPARAMETERS <-------------------------------------\n",
        "input_dim = 3\n",
        "hidden_dim = 10\n",
        "n_layers = 3\n",
        "batch_size = 1\n",
        "pred_time = 1 \n",
        "train_window = 5\n",
        "output_dim = pred_time"
      ],
      "execution_count": 45,
      "outputs": []
    },
    {
      "cell_type": "code",
      "metadata": {
        "id": "v3xQtsoa0jYR"
      },
      "source": [
        "class GRUNet(torch.nn.Module):\n",
        "    def __init__(self, input_dim, hidden_dim, output_dim, n_layers, drop_prob=0.2):\n",
        "        super(GRUNet, self).__init__()\n",
        "        self.hidden_dim = hidden_dim\n",
        "        self.n_layers = n_layers\n",
        "        \n",
        "        self.gru = nn.GRU(input_dim, hidden_dim, n_layers, batch_first=True, dropout=drop_prob)\n",
        "        self.fc = nn.Linear(hidden_dim, output_dim)\n",
        "        self.relu = nn.ReLU()\n",
        "        \n",
        "    def forward(self, x, h):\n",
        "        out, h = self.gru(x, h)\n",
        "        out = self.fc(self.relu(out[:,-1]))\n",
        "        return out, h"
      ],
      "execution_count": 46,
      "outputs": []
    },
    {
      "cell_type": "code",
      "metadata": {
        "id": "WLGioajQVLqm"
      },
      "source": [
        "#----------------------------> Creating Dataloader <----------------------------------------------------\n",
        "def create_inout_sequences(input_data, input_label, tw):\n",
        "    inout_seq = []\n",
        "    L = len(input_data)\n",
        "    for i in range(L-tw):\n",
        "        train_seq = input_data[i:i+tw]\n",
        "        train_label = input_label[i+tw:i+tw+1]\n",
        "        train_seq = torch.reshape(train_seq, (batch_size, tw, input_dim))\n",
        "        train_label = torch.reshape(train_label, (batch_size, pred_time, 1))\n",
        "        inout_seq.append((train_seq ,train_label))\n",
        "    return inout_seq\n",
        "\n",
        "# -----------------------------------------> LOADING DATA <----------------------------------------------\n",
        "train_data_tensor = torch.FloatTensor(data_train)\n",
        "label_data_tensor = torch.FloatTensor(label_train)\n",
        "train_inout_seq = create_inout_sequences(train_data_tensor, label_data_tensor, train_window)\n",
        "\n",
        "test_data_tensor = torch.FloatTensor(data_test)\n",
        "label_test_data_tensor = torch.FloatTensor(label_test)\n",
        "test_inout_seq = create_inout_sequences(test_data_tensor, label_test_data_tensor, train_window)"
      ],
      "execution_count": 47,
      "outputs": []
    },
    {
      "cell_type": "code",
      "metadata": {
        "id": "pW16xzvYVLZF",
        "outputId": "fa372ccd-21c4-4b51-d54e-093e66a8c333",
        "colab": {
          "base_uri": "https://localhost:8080/",
          "height": 166
        }
      },
      "source": [
        "# -----------------> Defining model, loss class & optimizer <-------------------\n",
        "model = GRUNet(input_dim, hidden_dim, output_dim, n_layers)\n",
        "loss_function = nn.MSELoss()\n",
        "optimizer = torch.optim.Adam(model.parameters(), lr=0.001)\n",
        "#-------------------------------------------------------------------------------\n",
        "epochs = 100\n",
        "h0 = torch.zeros(n_layers, batch_size, hidden_dim)\n",
        "h0_t = torch.zeros(n_layers, batch_size, hidden_dim)\n",
        "#-------------------------------> Training loop <------------------------------\n",
        "for i in range(epochs):\n",
        "    for seq, labels in train_inout_seq:\n",
        "      optimizer.zero_grad()\n",
        "      y_pred, h0 = model(seq, h0)\n",
        "      single_loss = loss_function(y_pred, labels)\n",
        "      single_loss.backward()\n",
        "      h0 = h0.detach()\n",
        "      optimizer.step()\n",
        "    if i%24 == 0:\n",
        "        model.eval()\n",
        "        for seq_t, labels_t in test_inout_seq:\n",
        "          y_pred_t, _ = model(seq_t, h0_t)\n",
        "          test_loss = loss_function(y_pred_t, labels_t)\n",
        "        print(f'Epoch: {i+1:2}---> Training:- Loss: {single_loss.item():10.8f} ----- Testing:- Loss: {test_loss.item():10.8f}')\n",
        "        model.train()"
      ],
      "execution_count": 48,
      "outputs": [
        {
          "output_type": "stream",
          "text": [
            "/usr/local/lib/python3.6/dist-packages/torch/nn/modules/loss.py:445: UserWarning: Using a target size (torch.Size([1, 1, 1])) that is different to the input size (torch.Size([1, 1])). This will likely lead to incorrect results due to broadcasting. Please ensure they have the same size.\n",
            "  return F.mse_loss(input, target, reduction=self.reduction)\n"
          ],
          "name": "stderr"
        },
        {
          "output_type": "stream",
          "text": [
            "Epoch:  1---> Training:- Loss: 0.00222540 ----- Testing:- Loss: 0.00424341\n",
            "Epoch: 25---> Training:- Loss: 0.00753943 ----- Testing:- Loss: 0.00146719\n",
            "Epoch: 49---> Training:- Loss: 0.00065463 ----- Testing:- Loss: 0.02115528\n",
            "Epoch: 73---> Training:- Loss: 0.00221931 ----- Testing:- Loss: 0.04680823\n",
            "Epoch: 97---> Training:- Loss: 0.00549816 ----- Testing:- Loss: 0.00333678\n"
          ],
          "name": "stdout"
        }
      ]
    },
    {
      "cell_type": "code",
      "metadata": {
        "id": "6RiFpw03zy5a",
        "outputId": "d5a0261f-841c-4189-fe18-c6545721e9e7",
        "colab": {
          "base_uri": "https://localhost:8080/",
          "height": 55
        }
      },
      "source": [
        "#-------------------> Prediction Snippet<---------------------------------------\n",
        "h0_pred = torch.zeros(n_layers, batch_size, hidden_dim)\n",
        "fut_pred = 10\n",
        "model.eval()\n",
        "test_inp = []\n",
        "for i in range(fut_pred):\n",
        "  to_pred = torch.FloatTensor(data_test[i:i+train_window])\n",
        "  to_pred = torch.reshape(to_pred, (batch_size, train_window, input_dim))\n",
        "  seq = to_pred\n",
        "  with torch.no_grad():\n",
        "      test_inp.append([model(seq, h0_pred)[0], 0, 0])   #padding to make dimensions equal so as to enable inverse scalar operation\n",
        "print(test_inp)"
      ],
      "execution_count": 49,
      "outputs": [
        {
          "output_type": "stream",
          "text": [
            "[[tensor([[0.8373]]), 0, 0], [tensor([[0.8194]]), 0, 0], [tensor([[0.8453]]), 0, 0], [tensor([[0.8110]]), 0, 0], [tensor([[0.7991]]), 0, 0], [tensor([[0.7852]]), 0, 0], [tensor([[0.7927]]), 0, 0], [tensor([[0.8074]]), 0, 0], [tensor([[0.7872]]), 0, 0], [tensor([[0.7867]]), 0, 0]]\n"
          ],
          "name": "stdout"
        }
      ]
    },
    {
      "cell_type": "code",
      "metadata": {
        "id": "PiYbHLfLdwve"
      },
      "source": [
        "#---------------------> Inverse scalar transformation <-------------------------\n",
        "import numpy as np\n",
        "stats = []\n",
        "num_features = 3\n",
        "actual_predictions = sc.inverse_transform(np.array(test_inp).reshape(-1,num_features))\n",
        "length = len(actual_predictions)\n",
        "for i in range(length):\n",
        "  stats.append(int(actual_predictions[i][0]))"
      ],
      "execution_count": 50,
      "outputs": []
    },
    {
      "cell_type": "code",
      "metadata": {
        "id": "EGnBzF-EeEBe"
      },
      "source": [
        "a = df['Daily Confirmed'].loc[240:249]\n",
        "stats_df = []\n",
        "for i in a:\n",
        "  stats_df.append(i)"
      ],
      "execution_count": 51,
      "outputs": []
    },
    {
      "cell_type": "code",
      "metadata": {
        "id": "xrsOsqgXh6GN",
        "outputId": "3e9d0653-6d0f-40d2-e324-2ea73936cb69",
        "colab": {
          "base_uri": "https://localhost:8080/",
          "height": 265
        }
      },
      "source": [
        "plt.plot(stats)\n",
        "plt.plot(stats_df)\n",
        "plt.legend(['Pred', 'Actual'])\n",
        "plt.show()"
      ],
      "execution_count": 52,
      "outputs": [
        {
          "output_type": "display_data",
          "data": {
            "image/png": "[encoded data removed]",
            "text/plain": [
              "<Figure size 432x288 with 1 Axes>"
            ]
          },
          "metadata": {
            "tags": [],
            "needs_background": "light"
          }
        }
      ]
    },
    {
      "cell_type": "code",
      "metadata": {
        "id": "eI3gLtmlW-8c"
      },
      "source": [
        ""
      ],
      "execution_count": null,
      "outputs": []
    },
    {
      "cell_type": "code",
      "metadata": {
        "id": "zQiFVmHKI67m"
      },
      "source": [
        ""
      ],
      "execution_count": null,
      "outputs": []
    },
    {
      "cell_type": "code",
      "metadata": {
        "id": "TG6dmOdzI640"
      },
      "source": [
        ""
      ],
      "execution_count": null,
      "outputs": []
    },
    {
      "cell_type": "code",
      "metadata": {
        "id": "gFxD4s32I62N"
      },
      "source": [
        ""
      ],
      "execution_count": null,
      "outputs": []
    },
    {
      "cell_type": "code",
      "metadata": {
        "id": "gFGBANkII6zY",
        "outputId": "12ca9c97-8157-4ff4-c7f3-88d46a97c829",
        "colab": {
          "base_uri": "https://localhost:8080/",
          "height": 206
        }
      },
      "source": [
        "df = pd.read_csv('us_daily_trend.csv')\n",
        "df.head()"
      ],
      "execution_count": 76,
      "outputs": [
        {
          "output_type": "execute_result",
          "data": {
            "text/html": [
              "<div>\n",
              "<style scoped>\n",
              "    .dataframe tbody tr th:only-of-type {\n",
              "        vertical-align: middle;\n",
              "    }\n",
              "\n",
              "    .dataframe tbody tr th {\n",
              "        vertical-align: top;\n",
              "    }\n",
              "\n",
              "    .dataframe thead th {\n",
              "        text-align: right;\n",
              "    }\n",
              "</style>\n",
              "<table border=\"1\" class=\"dataframe\">\n",
              "  <thead>\n",
              "    <tr style=\"text-align: right;\">\n",
              "      <th></th>\n",
              "      <th>Date</th>\n",
              "      <th>New Cases</th>\n",
              "      <th>7-Day Moving Avg</th>\n",
              "    </tr>\n",
              "  </thead>\n",
              "  <tbody>\n",
              "    <tr>\n",
              "      <th>0</th>\n",
              "      <td>Oct 20 2020</td>\n",
              "      <td>60426</td>\n",
              "      <td>59143</td>\n",
              "    </tr>\n",
              "    <tr>\n",
              "      <th>1</th>\n",
              "      <td>Oct 19 2020</td>\n",
              "      <td>60061</td>\n",
              "      <td>57291</td>\n",
              "    </tr>\n",
              "    <tr>\n",
              "      <th>2</th>\n",
              "      <td>Oct 18 2020</td>\n",
              "      <td>47035</td>\n",
              "      <td>55370</td>\n",
              "    </tr>\n",
              "    <tr>\n",
              "      <th>3</th>\n",
              "      <td>Oct 17 2020</td>\n",
              "      <td>53157</td>\n",
              "      <td>55232</td>\n",
              "    </tr>\n",
              "    <tr>\n",
              "      <th>4</th>\n",
              "      <td>Oct 16 2020</td>\n",
              "      <td>70078</td>\n",
              "      <td>55261</td>\n",
              "    </tr>\n",
              "  </tbody>\n",
              "</table>\n",
              "</div>"
            ],
            "text/plain": [
              "          Date  New Cases  7-Day Moving Avg\n",
              "0  Oct 20 2020      60426             59143\n",
              "1  Oct 19 2020      60061             57291\n",
              "2  Oct 18 2020      47035             55370\n",
              "3  Oct 17 2020      53157             55232\n",
              "4  Oct 16 2020      70078             55261"
            ]
          },
          "metadata": {
            "tags": []
          },
          "execution_count": 76
        }
      ]
    },
    {
      "cell_type": "code",
      "metadata": {
        "id": "Z4DkIItAJuJt"
      },
      "source": [
        "df = df[::-1]"
      ],
      "execution_count": 77,
      "outputs": []
    },
    {
      "cell_type": "code",
      "metadata": {
        "id": "Y4M-jrP6Jysi"
      },
      "source": [
        "df.set_index(keys = 'Date', inplace = True)"
      ],
      "execution_count": 78,
      "outputs": []
    },
    {
      "cell_type": "code",
      "metadata": {
        "id": "aHLCUt33I6wb",
        "outputId": "ee63261b-6bf5-4f47-82b5-ddb99dd404c3",
        "colab": {
          "base_uri": "https://localhost:8080/",
          "height": 35
        }
      },
      "source": [
        "sc = sklearn.preprocessing.MinMaxScaler(feature_range=(-1, 1))\n",
        "data = sc.fit_transform(df.values)\n",
        "data = pd.DataFrame(data)\n",
        "data.shape"
      ],
      "execution_count": 56,
      "outputs": [
        {
          "output_type": "execute_result",
          "data": {
            "text/plain": [
              "(273, 2)"
            ]
          },
          "metadata": {
            "tags": []
          },
          "execution_count": 56
        }
      ]
    },
    {
      "cell_type": "code",
      "metadata": {
        "id": "Xj7plLItJ8vC"
      },
      "source": [
        "df_train = data.iloc[16:168][0]\n",
        "df_test = data.iloc[169:186][0]"
      ],
      "execution_count": 96,
      "outputs": []
    },
    {
      "cell_type": "code",
      "metadata": {
        "id": "pHrZVrsSNald"
      },
      "source": [
        "data_train = df_train.to_numpy()\n",
        "data_test = df_test.to_numpy()\n",
        "\n",
        "label_train = df_train.to_numpy()\n",
        "label_test = df_test.to_numpy()"
      ],
      "execution_count": 97,
      "outputs": []
    },
    {
      "cell_type": "code",
      "metadata": {
        "id": "DQlO59ZgI6t7"
      },
      "source": [
        "input_dim = 1\n",
        "hidden_dim = 10\n",
        "n_layers = 2\n",
        "batch_size = 1\n",
        "pred_time = 1 \n",
        "train_window = 5\n",
        "output_dim = pred_time"
      ],
      "execution_count": 98,
      "outputs": []
    },
    {
      "cell_type": "code",
      "metadata": {
        "id": "zKlyltv7I6rW"
      },
      "source": [
        "class GRUNet(torch.nn.Module):\n",
        "    def __init__(self, input_dim, hidden_dim, output_dim, n_layers, drop_prob=0.2):\n",
        "        super(GRUNet, self).__init__()\n",
        "        self.hidden_dim = hidden_dim\n",
        "        self.n_layers = n_layers\n",
        "        \n",
        "        self.gru = nn.GRU(input_dim, hidden_dim, n_layers, batch_first=True, dropout=drop_prob)\n",
        "        self.fc = nn.Linear(hidden_dim, output_dim)\n",
        "        self.relu = nn.ReLU()\n",
        "        \n",
        "    def forward(self, x, h):\n",
        "        out, h = self.gru(x, h)\n",
        "        out = self.fc(self.relu(out[:,-1]))\n",
        "        return out, h"
      ],
      "execution_count": 99,
      "outputs": []
    },
    {
      "cell_type": "code",
      "metadata": {
        "id": "BFSNcOSiI6pu"
      },
      "source": [
        "#----------------------------> Creating Dataloader <----------------------------------------------------\n",
        "def create_inout_sequences(input_data, input_label, tw):\n",
        "    inout_seq = []\n",
        "    L = len(input_data)\n",
        "    for i in range(L-tw):\n",
        "        train_seq = input_data[i:i+tw]\n",
        "        train_label = input_label[i+tw:i+tw+1]\n",
        "        train_seq = torch.reshape(train_seq, (batch_size, tw, input_dim))\n",
        "        train_label = torch.reshape(train_label, (batch_size, pred_time, 1))\n",
        "        inout_seq.append((train_seq ,train_label))\n",
        "    return inout_seq\n",
        "\n",
        "# -----------------------------------------> LOADING DATA <----------------------------------------------\n",
        "train_data_tensor = torch.FloatTensor(data_train)\n",
        "label_data_tensor = torch.FloatTensor(label_train)\n",
        "train_inout_seq = create_inout_sequences(train_data_tensor, label_data_tensor, train_window)\n",
        "\n",
        "test_data_tensor = torch.FloatTensor(data_test)\n",
        "label_test_data_tensor = torch.FloatTensor(label_test)\n",
        "test_inout_seq = create_inout_sequences(test_data_tensor, label_test_data_tensor, train_window)"
      ],
      "execution_count": 100,
      "outputs": []
    },
    {
      "cell_type": "code",
      "metadata": {
        "id": "MQgvbSKeI6my",
        "outputId": "75e1f22c-f5ab-48de-c6dd-02bd652e67a3",
        "colab": {
          "base_uri": "https://localhost:8080/",
          "height": 166
        }
      },
      "source": [
        "# -----------------> Defining model, loss class & optimizer <-------------------\n",
        "model = GRUNet(input_dim, hidden_dim, output_dim, n_layers)\n",
        "loss_function = nn.MSELoss()\n",
        "optimizer = torch.optim.Adam(model.parameters(), lr=0.001)\n",
        "#-------------------------------------------------------------------------------\n",
        "epochs = 100\n",
        "h0 = torch.zeros(n_layers, batch_size, hidden_dim)\n",
        "h0_t = torch.zeros(n_layers, batch_size, hidden_dim)\n",
        "#-------------------------------> Training loop <------------------------------\n",
        "\n",
        "for i in range(epochs):\n",
        "    for seq, labels in train_inout_seq:\n",
        "      optimizer.zero_grad()\n",
        "      y_pred, h0 = model(seq, h0)\n",
        "      loss = loss_function(y_pred, labels)\n",
        "      loss.backward()\n",
        "      h0 = h0.detach()\n",
        "      optimizer.step()\n",
        "    if i%24 == 0:\n",
        "        model.eval()\n",
        "        for seq_t, labels_t in test_inout_seq:\n",
        "          y_pred_t, _ = model(seq_t, h0_t)\n",
        "          test_loss = loss_function(y_pred_t, labels_t)\n",
        "        print(f'Epoch: {i+1:2}---> Training:- Loss: {loss.item():10.8f} ----- Testing:- Loss: {test_loss.item():10.8f}')\n",
        "        model.train()"
      ],
      "execution_count": 104,
      "outputs": [
        {
          "output_type": "stream",
          "text": [
            "/usr/local/lib/python3.6/dist-packages/torch/nn/modules/loss.py:445: UserWarning: Using a target size (torch.Size([1, 1, 1])) that is different to the input size (torch.Size([1, 1])). This will likely lead to incorrect results due to broadcasting. Please ensure they have the same size.\n",
            "  return F.mse_loss(input, target, reduction=self.reduction)\n"
          ],
          "name": "stderr"
        },
        {
          "output_type": "stream",
          "text": [
            "Epoch:  1---> Training:- Loss: 0.26870051 ----- Testing:- Loss: 0.67960185\n",
            "Epoch: 25---> Training:- Loss: 0.00013904 ----- Testing:- Loss: 0.01807540\n",
            "Epoch: 49---> Training:- Loss: 0.00154852 ----- Testing:- Loss: 0.02514244\n",
            "Epoch: 73---> Training:- Loss: 0.00756417 ----- Testing:- Loss: 0.03301972\n",
            "Epoch: 97---> Training:- Loss: 0.00077496 ----- Testing:- Loss: 0.02069316\n"
          ],
          "name": "stdout"
        }
      ]
    },
    {
      "cell_type": "code",
      "metadata": {
        "id": "3lU2BI5CI6jt",
        "outputId": "7c6d9899-3062-45b9-d7cb-8acb7f457bb0",
        "colab": {
          "base_uri": "https://localhost:8080/",
          "height": 55
        }
      },
      "source": [
        "#-------------------> Prediction Snippet<---------------------------------------\n",
        "h0_pred = torch.zeros(n_layers, batch_size, hidden_dim)\n",
        "fut_pred = 10\n",
        "model.eval()\n",
        "test_inp = []\n",
        "for i in range(fut_pred):\n",
        "  to_pred = torch.FloatTensor(data_test[i:i+train_window])\n",
        "  to_pred = torch.reshape(to_pred, (batch_size, train_window, input_dim))\n",
        "  seq = to_pred\n",
        "  with torch.no_grad():\n",
        "      test_inp.append([model(seq, h0_pred)[0], 0])   #padding to make dimensions equal so as to enable inverse scalar operation\n",
        "print(test_inp)"
      ],
      "execution_count": 108,
      "outputs": [
        {
          "output_type": "stream",
          "text": [
            "[[tensor([[0.5072]]), 0], [tensor([[0.5153]]), 0], [tensor([[0.5379]]), 0], [tensor([[0.5545]]), 0], [tensor([[0.5649]]), 0], [tensor([[0.5498]]), 0], [tensor([[0.5353]]), 0], [tensor([[0.5087]]), 0], [tensor([[0.5251]]), 0], [tensor([[0.5483]]), 0]]\n"
          ],
          "name": "stdout"
        }
      ]
    },
    {
      "cell_type": "code",
      "metadata": {
        "id": "YfVc-tmnI6hc"
      },
      "source": [
        "#---------------------> Inverse scalar transformation <-------------------------\n",
        "import numpy as np\n",
        "stats = []\n",
        "num_features = 1\n",
        "actual_predictions = sc.inverse_transform(np.array(test_inp).reshape(-1, 2))\n",
        "length = len(actual_predictions)\n",
        "for i in range(length):\n",
        "  stats.append(int(actual_predictions[i][0]))"
      ],
      "execution_count": 110,
      "outputs": []
    },
    {
      "cell_type": "code",
      "metadata": {
        "id": "O0mruf6rI6fq"
      },
      "source": [
        "a = df.loc['Jul 8 2020':'Jul 17 2020']['New Cases']\n",
        "stats_df = []\n",
        "for i in a:\n",
        "  stats_df.append(i)"
      ],
      "execution_count": 130,
      "outputs": []
    },
    {
      "cell_type": "code",
      "metadata": {
        "id": "SlmhKTy-I6cW",
        "outputId": "3d53a0a5-d337-43fa-b1d7-6c90d49cb586",
        "colab": {
          "base_uri": "https://localhost:8080/",
          "height": 265
        }
      },
      "source": [
        "plt.plot(stats)\n",
        "plt.plot(stats_df)\n",
        "plt.legend(['Pred', 'Actual'])\n",
        "plt.show()"
      ],
      "execution_count": 131,
      "outputs": [
        {
          "output_type": "display_data",
          "data": {
            "image/png": "[encoded data removed]",
            "text/plain": [
              "<Figure size 432x288 with 1 Axes>"
            ]
          },
          "metadata": {
            "tags": [],
            "needs_background": "light"
          }
        }
      ]
    }
  ]
}