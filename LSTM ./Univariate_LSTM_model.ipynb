{
 "cells": [
  {
   "cell_type": "code",
   "execution_count": 1,
   "metadata": {},
   "outputs": [],
   "source": [
    "import torch\n",
    "import torch.nn as nn\n",
    "\n",
    "import seaborn as sns\n",
    "import numpy as np\n",
    "import pandas as pd\n",
    "import matplotlib.pyplot as plt\n",
    "%matplotlib inline"
   ]
  },
  {
   "cell_type": "code",
   "execution_count": 4,
   "metadata": {},
   "outputs": [],
   "source": [
    "df=pd.read_csv(r\"C:\\Users\\mypc\\Downloads\\Forecasting_COVID-19-master\\Forecasting_COVID-19-master\\Dataset\\case_time_series.csv\")"
   ]
  },
  {
   "cell_type": "code",
   "execution_count": 5,
   "metadata": {},
   "outputs": [
    {
     "data": {
      "text/html": [
       "<div>\n",
       "<style scoped>\n",
       "    .dataframe tbody tr th:only-of-type {\n",
       "        vertical-align: middle;\n",
       "    }\n",
       "\n",
       "    .dataframe tbody tr th {\n",
       "        vertical-align: top;\n",
       "    }\n",
       "\n",
       "    .dataframe thead th {\n",
       "        text-align: right;\n",
       "    }\n",
       "</style>\n",
       "<table border=\"1\" class=\"dataframe\">\n",
       "  <thead>\n",
       "    <tr style=\"text-align: right;\">\n",
       "      <th></th>\n",
       "      <th>Date</th>\n",
       "      <th>Daily Confirmed</th>\n",
       "      <th>Total Confirmed</th>\n",
       "      <th>Daily Recovered</th>\n",
       "      <th>Total Recovered</th>\n",
       "      <th>Daily Deceased</th>\n",
       "      <th>Total Deceased</th>\n",
       "    </tr>\n",
       "  </thead>\n",
       "  <tbody>\n",
       "    <tr>\n",
       "      <th>0</th>\n",
       "      <td>30/01/2020</td>\n",
       "      <td>1</td>\n",
       "      <td>1</td>\n",
       "      <td>0</td>\n",
       "      <td>0</td>\n",
       "      <td>0</td>\n",
       "      <td>0</td>\n",
       "    </tr>\n",
       "    <tr>\n",
       "      <th>1</th>\n",
       "      <td>31/01/2020</td>\n",
       "      <td>0</td>\n",
       "      <td>1</td>\n",
       "      <td>0</td>\n",
       "      <td>0</td>\n",
       "      <td>0</td>\n",
       "      <td>0</td>\n",
       "    </tr>\n",
       "    <tr>\n",
       "      <th>2</th>\n",
       "      <td>01/02/2020</td>\n",
       "      <td>0</td>\n",
       "      <td>1</td>\n",
       "      <td>0</td>\n",
       "      <td>0</td>\n",
       "      <td>0</td>\n",
       "      <td>0</td>\n",
       "    </tr>\n",
       "    <tr>\n",
       "      <th>3</th>\n",
       "      <td>02/02/2020</td>\n",
       "      <td>1</td>\n",
       "      <td>2</td>\n",
       "      <td>0</td>\n",
       "      <td>0</td>\n",
       "      <td>0</td>\n",
       "      <td>0</td>\n",
       "    </tr>\n",
       "    <tr>\n",
       "      <th>4</th>\n",
       "      <td>03/02/2020</td>\n",
       "      <td>1</td>\n",
       "      <td>3</td>\n",
       "      <td>0</td>\n",
       "      <td>0</td>\n",
       "      <td>0</td>\n",
       "      <td>0</td>\n",
       "    </tr>\n",
       "    <tr>\n",
       "      <th>...</th>\n",
       "      <td>...</td>\n",
       "      <td>...</td>\n",
       "      <td>...</td>\n",
       "      <td>...</td>\n",
       "      <td>...</td>\n",
       "      <td>...</td>\n",
       "      <td>...</td>\n",
       "    </tr>\n",
       "    <tr>\n",
       "      <th>250</th>\n",
       "      <td>06/10/2020</td>\n",
       "      <td>71869</td>\n",
       "      <td>6754191</td>\n",
       "      <td>81945</td>\n",
       "      <td>5741231</td>\n",
       "      <td>990</td>\n",
       "      <td>104005</td>\n",
       "    </tr>\n",
       "    <tr>\n",
       "      <th>251</th>\n",
       "      <td>07/10/2020</td>\n",
       "      <td>78809</td>\n",
       "      <td>6833000</td>\n",
       "      <td>83209</td>\n",
       "      <td>5824440</td>\n",
       "      <td>963</td>\n",
       "      <td>104968</td>\n",
       "    </tr>\n",
       "    <tr>\n",
       "      <th>252</th>\n",
       "      <td>08/10/2020</td>\n",
       "      <td>70797</td>\n",
       "      <td>6903797</td>\n",
       "      <td>78745</td>\n",
       "      <td>5903185</td>\n",
       "      <td>967</td>\n",
       "      <td>105935</td>\n",
       "    </tr>\n",
       "    <tr>\n",
       "      <th>253</th>\n",
       "      <td>09/10/2020</td>\n",
       "      <td>73305</td>\n",
       "      <td>6977102</td>\n",
       "      <td>82628</td>\n",
       "      <td>5985813</td>\n",
       "      <td>929</td>\n",
       "      <td>106864</td>\n",
       "    </tr>\n",
       "    <tr>\n",
       "      <th>254</th>\n",
       "      <td>10/10/2020</td>\n",
       "      <td>74418</td>\n",
       "      <td>7051520</td>\n",
       "      <td>89022</td>\n",
       "      <td>6074835</td>\n",
       "      <td>921</td>\n",
       "      <td>107785</td>\n",
       "    </tr>\n",
       "  </tbody>\n",
       "</table>\n",
       "<p>255 rows × 7 columns</p>\n",
       "</div>"
      ],
      "text/plain": [
       "           Date  Daily Confirmed  Total Confirmed  Daily Recovered  \\\n",
       "0    30/01/2020                1                1                0   \n",
       "1    31/01/2020                0                1                0   \n",
       "2    01/02/2020                0                1                0   \n",
       "3    02/02/2020                1                2                0   \n",
       "4    03/02/2020                1                3                0   \n",
       "..          ...              ...              ...              ...   \n",
       "250  06/10/2020            71869          6754191            81945   \n",
       "251  07/10/2020            78809          6833000            83209   \n",
       "252  08/10/2020            70797          6903797            78745   \n",
       "253  09/10/2020            73305          6977102            82628   \n",
       "254  10/10/2020            74418          7051520            89022   \n",
       "\n",
       "     Total Recovered  Daily Deceased  Total Deceased  \n",
       "0                  0               0               0  \n",
       "1                  0               0               0  \n",
       "2                  0               0               0  \n",
       "3                  0               0               0  \n",
       "4                  0               0               0  \n",
       "..               ...             ...             ...  \n",
       "250          5741231             990          104005  \n",
       "251          5824440             963          104968  \n",
       "252          5903185             967          105935  \n",
       "253          5985813             929          106864  \n",
       "254          6074835             921          107785  \n",
       "\n",
       "[255 rows x 7 columns]"
      ]
     },
     "execution_count": 5,
     "metadata": {},
     "output_type": "execute_result"
    }
   ],
   "source": [
    "df"
   ]
  },
  {
   "cell_type": "code",
   "execution_count": 32,
   "metadata": {},
   "outputs": [
    {
     "data": {
      "text/plain": [
       "Index(['Date', 'Daily Confirmed', 'Total Confirmed', 'Daily Recovered',\n",
       "       'Total Recovered', 'Daily Deceased', 'Total Deceased'],\n",
       "      dtype='object')"
      ]
     },
     "execution_count": 32,
     "metadata": {},
     "output_type": "execute_result"
    }
   ],
   "source": [
    "df.columns"
   ]
  },
  {
   "cell_type": "code",
   "execution_count": 33,
   "metadata": {},
   "outputs": [],
   "source": [
    "all_data = df['Daily Confirmed'].values.astype(float)"
   ]
  },
  {
   "cell_type": "code",
   "execution_count": 34,
   "metadata": {},
   "outputs": [
    {
     "name": "stdout",
     "output_type": "stream",
     "text": [
      "[1.0000e+00 0.0000e+00 0.0000e+00 1.0000e+00 1.0000e+00 0.0000e+00\n",
      " 0.0000e+00 0.0000e+00 0.0000e+00 0.0000e+00 0.0000e+00 0.0000e+00\n",
      " 0.0000e+00 0.0000e+00 0.0000e+00 0.0000e+00 0.0000e+00 0.0000e+00\n",
      " 0.0000e+00 0.0000e+00 0.0000e+00 0.0000e+00 0.0000e+00 0.0000e+00\n",
      " 0.0000e+00 0.0000e+00 0.0000e+00 0.0000e+00 0.0000e+00 0.0000e+00\n",
      " 0.0000e+00 0.0000e+00 2.0000e+00 1.0000e+00 2.2000e+01 2.0000e+00\n",
      " 1.0000e+00 3.0000e+00 5.0000e+00 9.0000e+00 1.5000e+01 8.0000e+00\n",
      " 1.0000e+01 1.0000e+01 1.1000e+01 1.0000e+01 1.4000e+01 2.0000e+01\n",
      " 2.5000e+01 2.7000e+01 5.8000e+01 7.8000e+01 6.9000e+01 9.4000e+01\n",
      " 7.4000e+01 8.6000e+01 7.3000e+01 1.5300e+02 1.3600e+02 1.2000e+02\n",
      " 1.8700e+02 3.0900e+02 4.2400e+02 4.8600e+02 5.6000e+02 5.7900e+02\n",
      " 6.0900e+02 4.8400e+02 5.7300e+02 5.6500e+02 8.1300e+02 8.7100e+02\n",
      " 8.5400e+02 7.5800e+02 1.2430e+03 1.0310e+03 8.8600e+02 1.0610e+03\n",
      " 9.2200e+02 1.3710e+03 1.5800e+03 1.2390e+03 1.5370e+03 1.2920e+03\n",
      " 1.6670e+03 1.4080e+03 1.8350e+03 1.6070e+03 1.5680e+03 1.9020e+03\n",
      " 1.7050e+03 1.8010e+03 2.3960e+03 2.5640e+03 2.9520e+03 3.6560e+03\n",
      " 2.9710e+03 3.6020e+03 3.3440e+03 3.3390e+03 3.1750e+03 4.3110e+03\n",
      " 3.5920e+03 3.5620e+03 3.7260e+03 3.9910e+03 3.8080e+03 4.7940e+03\n",
      " 5.0490e+03 4.6280e+03 6.1540e+03 5.7200e+03 6.0230e+03 6.5360e+03\n",
      " 6.6670e+03 7.1110e+03 6.4140e+03 5.9070e+03 7.2460e+03 7.2540e+03\n",
      " 8.1380e+03 8.3640e+03 8.7890e+03 7.7230e+03 8.8120e+03 9.6890e+03\n",
      " 9.8470e+03 9.4720e+03 1.0408e+04 1.0882e+04 8.5360e+03 9.9810e+03\n",
      " 1.1156e+04 1.1135e+04 1.1306e+04 1.2039e+04 1.1405e+04 1.0032e+04\n",
      " 1.1086e+04 1.3108e+04 1.3829e+04 1.4740e+04 1.5918e+04 1.5151e+04\n",
      " 1.3560e+04 1.5656e+04 1.6868e+04 1.8205e+04 1.8255e+04 2.0142e+04\n",
      " 1.9610e+04 1.8339e+04 1.8256e+04 1.9429e+04 2.1947e+04 2.2718e+04\n",
      " 2.4018e+04 2.3942e+04 2.2500e+04 2.3147e+04 2.5561e+04 2.5790e+04\n",
      " 2.7762e+04 2.7757e+04 2.9106e+04 2.8178e+04 2.9917e+04 3.2607e+04\n",
      " 3.5468e+04 3.4820e+04 3.7411e+04 4.0235e+04 3.6806e+04 3.9170e+04\n",
      " 4.5601e+04 4.8443e+04 4.8888e+04 5.0072e+04 4.8932e+04 4.6484e+04\n",
      " 4.9631e+04 5.2479e+04 5.4968e+04 5.7486e+04 5.5117e+04 5.2672e+04\n",
      " 5.0488e+04 5.1282e+04 5.6626e+04 6.2170e+04 6.1455e+04 6.5156e+04\n",
      " 6.2117e+04 5.3016e+04 6.1252e+04 6.7066e+04 6.4141e+04 6.5610e+04\n",
      " 6.3986e+04 5.8096e+04 5.4298e+04 6.5024e+04 6.9196e+04 6.8518e+04\n",
      " 6.9029e+04 7.0067e+04 6.1749e+04 5.9696e+04 6.6873e+04 7.5995e+04\n",
      " 7.6827e+04 7.6657e+04 7.8479e+04 7.9461e+04 6.8766e+04 7.8168e+04\n",
      " 8.2860e+04 8.4156e+04 8.7115e+04 9.0600e+04 9.1725e+04 7.5015e+04\n",
      " 8.9855e+04 9.5536e+04 9.6762e+04 9.7655e+04 9.4414e+04 9.3220e+04\n",
      " 8.1913e+04 9.1098e+04 9.7860e+04 9.6787e+04 9.2973e+04 9.2574e+04\n",
      " 8.7395e+04 7.4493e+04 8.3362e+04 8.6703e+04 8.5921e+04 8.5717e+04\n",
      " 8.8759e+04 8.2770e+04 6.9669e+04 8.0500e+04 8.6748e+04 8.1784e+04\n",
      " 7.9883e+04 7.5479e+04 7.4770e+04 6.0130e+04 7.1869e+04 7.8809e+04\n",
      " 7.0797e+04 7.3305e+04 7.4418e+04]\n"
     ]
    }
   ],
   "source": [
    "print(all_data)"
   ]
  },
  {
   "cell_type": "code",
   "execution_count": 35,
   "metadata": {},
   "outputs": [],
   "source": [
    "test_data_size = 15\n",
    "\n",
    "train_data = all_data[:-test_data_size]\n",
    "test_data = all_data[-test_data_size:]"
   ]
  },
  {
   "cell_type": "code",
   "execution_count": 36,
   "metadata": {},
   "outputs": [
    {
     "name": "stdout",
     "output_type": "stream",
     "text": [
      "240\n",
      "15\n"
     ]
    }
   ],
   "source": [
    "print(len(train_data))\n",
    "print(len(test_data))"
   ]
  },
  {
   "cell_type": "code",
   "execution_count": 37,
   "metadata": {},
   "outputs": [
    {
     "name": "stdout",
     "output_type": "stream",
     "text": [
      "[88759. 82770. 69669. 80500. 86748. 81784. 79883. 75479. 74770. 60130.\n",
      " 71869. 78809. 70797. 73305. 74418.]\n"
     ]
    }
   ],
   "source": [
    "print(test_data)"
   ]
  },
  {
   "cell_type": "code",
   "execution_count": 38,
   "metadata": {},
   "outputs": [],
   "source": [
    "from sklearn.preprocessing import MinMaxScaler\n",
    "\n",
    "scaler = MinMaxScaler(feature_range=(-1, 1))\n",
    "train_data_normalized = scaler.fit_transform(train_data .reshape(-1, 1))"
   ]
  },
  {
   "cell_type": "code",
   "execution_count": 39,
   "metadata": {},
   "outputs": [
    {
     "name": "stdout",
     "output_type": "stream",
     "text": [
      "[[-0.99997956]\n",
      " [-1.        ]\n",
      " [-1.        ]\n",
      " [-0.99997956]\n",
      " [-0.99997956]]\n",
      "[[0.52244022]\n",
      " [0.70369916]\n",
      " [0.77198038]\n",
      " [0.75599837]\n",
      " [0.75182914]]\n"
     ]
    }
   ],
   "source": [
    "print(train_data_normalized[:5])\n",
    "print(train_data_normalized[-5:])"
   ]
  },
  {
   "cell_type": "code",
   "execution_count": 40,
   "metadata": {},
   "outputs": [],
   "source": [
    "train_data_normalized = torch.FloatTensor(train_data_normalized).view(-1)"
   ]
  },
  {
   "cell_type": "code",
   "execution_count": 41,
   "metadata": {},
   "outputs": [],
   "source": [
    "train_window = 12"
   ]
  },
  {
   "cell_type": "code",
   "execution_count": 42,
   "metadata": {},
   "outputs": [],
   "source": [
    "def create_inout_sequences(input_data, tw):\n",
    "    inout_seq = []\n",
    "    L = len(input_data)\n",
    "    for i in range(L-tw):\n",
    "        train_seq = input_data[i:i+tw]\n",
    "        train_label = input_data[i+tw:i+tw+1]\n",
    "        inout_seq.append((train_seq ,train_label))\n",
    "    return inout_seq"
   ]
  },
  {
   "cell_type": "code",
   "execution_count": 43,
   "metadata": {},
   "outputs": [],
   "source": [
    "train_inout_seq = create_inout_sequences(train_data_normalized, train_window)"
   ]
  },
  {
   "cell_type": "code",
   "execution_count": 44,
   "metadata": {},
   "outputs": [
    {
     "data": {
      "text/plain": [
       "[(tensor([-1.0000, -1.0000, -1.0000, -1.0000, -1.0000, -1.0000, -1.0000, -1.0000,\n",
       "          -1.0000, -1.0000, -1.0000, -1.0000]),\n",
       "  tensor([-1.])),\n",
       " (tensor([-1.0000, -1.0000, -1.0000, -1.0000, -1.0000, -1.0000, -1.0000, -1.0000,\n",
       "          -1.0000, -1.0000, -1.0000, -1.0000]),\n",
       "  tensor([-1.])),\n",
       " (tensor([-1.0000, -1.0000, -1.0000, -1.0000, -1.0000, -1.0000, -1.0000, -1.0000,\n",
       "          -1.0000, -1.0000, -1.0000, -1.0000]),\n",
       "  tensor([-1.])),\n",
       " (tensor([-1.0000, -1.0000, -1.0000, -1.0000, -1.0000, -1.0000, -1.0000, -1.0000,\n",
       "          -1.0000, -1.0000, -1.0000, -1.0000]),\n",
       "  tensor([-1.])),\n",
       " (tensor([-1.0000, -1.0000, -1.0000, -1.0000, -1.0000, -1.0000, -1.0000, -1.0000,\n",
       "          -1.0000, -1.0000, -1.0000, -1.0000]),\n",
       "  tensor([-1.]))]"
      ]
     },
     "execution_count": 44,
     "metadata": {},
     "output_type": "execute_result"
    }
   ],
   "source": [
    "train_inout_seq[:5]"
   ]
  },
  {
   "cell_type": "code",
   "execution_count": 45,
   "metadata": {},
   "outputs": [],
   "source": [
    "class LSTM(nn.Module):\n",
    "    def __init__(self, input_size=1, hidden_layer_size=100, output_size=1):\n",
    "        super().__init__()\n",
    "        self.hidden_layer_size = hidden_layer_size\n",
    "\n",
    "        self.lstm = nn.LSTM(input_size, hidden_layer_size)\n",
    "\n",
    "        self.linear = nn.Linear(hidden_layer_size, output_size)\n",
    "\n",
    "        self.hidden_cell = (torch.zeros(1,1,self.hidden_layer_size),\n",
    "                            torch.zeros(1,1,self.hidden_layer_size))\n",
    "\n",
    "    def forward(self, input_seq):\n",
    "        lstm_out, self.hidden_cell = self.lstm(input_seq.view(len(input_seq) ,1, -1), self.hidden_cell)\n",
    "        predictions = self.linear(lstm_out.view(len(input_seq), -1))\n",
    "        return predictions[-1]"
   ]
  },
  {
   "cell_type": "code",
   "execution_count": 46,
   "metadata": {},
   "outputs": [],
   "source": [
    "model = LSTM()\n",
    "loss_function = nn.MSELoss()\n",
    "optimizer = torch.optim.Adam(model.parameters(), lr=0.001)"
   ]
  },
  {
   "cell_type": "code",
   "execution_count": 47,
   "metadata": {},
   "outputs": [
    {
     "name": "stdout",
     "output_type": "stream",
     "text": [
      "LSTM(\n",
      "  (lstm): LSTM(1, 100)\n",
      "  (linear): Linear(in_features=100, out_features=1, bias=True)\n",
      ")\n"
     ]
    }
   ],
   "source": [
    "print(model)"
   ]
  },
  {
   "cell_type": "code",
   "execution_count": 48,
   "metadata": {},
   "outputs": [
    {
     "name": "stdout",
     "output_type": "stream",
     "text": [
      "epoch:   1 loss: 0.00073268\n",
      "epoch:  26 loss: 0.01124309\n",
      "epoch:  51 loss: 0.01906696\n",
      "epoch:  76 loss: 0.02197686\n",
      "epoch: 101 loss: 0.00110660\n",
      "epoch: 126 loss: 0.00000232\n",
      "epoch: 149 loss: 0.0029108031\n"
     ]
    }
   ],
   "source": [
    "epochs = 150\n",
    "\n",
    "for i in range(epochs):\n",
    "    for seq, labels in train_inout_seq:\n",
    "        optimizer.zero_grad()\n",
    "        model.hidden_cell = (torch.zeros(1, 1, model.hidden_layer_size),\n",
    "                        torch.zeros(1, 1, model.hidden_layer_size))\n",
    "\n",
    "        y_pred = model(seq)\n",
    "\n",
    "        single_loss = loss_function(y_pred, labels)\n",
    "        single_loss.backward()\n",
    "        optimizer.step()\n",
    "\n",
    "    if i%25 == 1:\n",
    "        print(f'epoch: {i:3} loss: {single_loss.item():10.8f}')\n",
    "\n",
    "print(f'epoch: {i:3} loss: {single_loss.item():10.10f}')"
   ]
  },
  {
   "cell_type": "code",
   "execution_count": 49,
   "metadata": {},
   "outputs": [
    {
     "name": "stdout",
     "output_type": "stream",
     "text": [
      "[0.6740854382514954, 0.8618025779724121, 1.0, 0.9780707359313965, 0.9001226425170898, 0.8919681310653687, 0.7861230373382568, 0.5224401950836182, 0.7036991715431213, 0.7719804048538208, 0.7559983730316162, 0.7518291473388672]\n"
     ]
    }
   ],
   "source": [
    "fut_pred = 15\n",
    "\n",
    "test_inputs = train_data_normalized[-train_window:].tolist()\n",
    "print(test_inputs)"
   ]
  },
  {
   "cell_type": "code",
   "execution_count": 50,
   "metadata": {},
   "outputs": [],
   "source": [
    "model.eval()\n",
    "\n",
    "for i in range(fut_pred):\n",
    "    seq = torch.FloatTensor(test_inputs[-train_window:])\n",
    "    with torch.no_grad():\n",
    "        model.hidden = (torch.zeros(1, 1, model.hidden_layer_size),\n",
    "                        torch.zeros(1, 1, model.hidden_layer_size))\n",
    "        test_inputs.append(model(seq).item())"
   ]
  },
  {
   "cell_type": "code",
   "execution_count": 51,
   "metadata": {},
   "outputs": [
    {
     "data": {
      "text/plain": [
       "[0.4933318793773651,\n",
       " 1.0085740089416504,\n",
       " 0.9240334033966064,\n",
       " 0.9675493240356445,\n",
       " 1.297325611114502,\n",
       " 0.8993901014328003,\n",
       " 0.7964391708374023,\n",
       " 1.0248830318450928,\n",
       " 1.0461137294769287,\n",
       " 1.1208851337432861,\n",
       " 1.3501139879226685,\n",
       " 1.144467830657959]"
      ]
     },
     "execution_count": 51,
     "metadata": {},
     "output_type": "execute_result"
    }
   ],
   "source": [
    "test_inputs[fut_pred:]"
   ]
  },
  {
   "cell_type": "code",
   "execution_count": 52,
   "metadata": {},
   "outputs": [
    {
     "name": "stdout",
     "output_type": "stream",
     "text": [
      "[[ 89010.74560046]\n",
      " [ 98556.98031306]\n",
      " [ 85300.87450862]\n",
      " [ 73068.72885793]\n",
      " [ 98279.52625751]\n",
      " [ 94142.9544282 ]\n",
      " [ 96272.18842506]\n",
      " [112408.14215183]\n",
      " [ 92937.15766311]\n",
      " [ 87899.76862907]\n",
      " [ 99077.52674818]\n",
      " [100116.34478331]\n",
      " [103774.90959406]\n",
      " [114991.07742906]\n",
      " [104928.81095409]]\n"
     ]
    }
   ],
   "source": [
    "actual_predictions = scaler.inverse_transform(np.array(test_inputs[train_window:] ).reshape(-1, 1))\n",
    "print(actual_predictions)"
   ]
  },
  {
   "cell_type": "code",
   "execution_count": 26,
   "metadata": {},
   "outputs": [
    {
     "name": "stdout",
     "output_type": "stream",
     "text": [
      "[240 241 242 243 244 245 246 247 248 249 250 251 252 253 254]\n"
     ]
    }
   ],
   "source": [
    "x = np.arange(240, 255, 1)\n",
    "print(x)"
   ]
  },
  {
   "cell_type": "code",
   "execution_count": 53,
   "metadata": {},
   "outputs": [
    {
     "data": {
      "image/png": "[encoded data removed]",
      "text/plain": [
       "<Figure size 432x288 with 1 Axes>"
      ]
     },
     "metadata": {
      "needs_background": "light"
     },
     "output_type": "display_data"
    }
   ],
   "source": [
    "plt.title('Daily Confirmed')\n",
    "plt.ylabel('Confirmed Cases')\n",
    "plt.grid(True)\n",
    "plt.autoscale(axis='x', tight=True)\n",
    "plt.plot(df['Daily Confirmed'])\n",
    "plt.plot(x,actual_predictions)\n",
    "plt.show()"
   ]
  },
  {
   "cell_type": "code",
   "execution_count": 54,
   "metadata": {},
   "outputs": [
    {
     "data": {
      "image/png": "[encoded data removed]",
      "text/plain": [
       "<Figure size 432x288 with 1 Axes>"
      ]
     },
     "metadata": {
      "needs_background": "light"
     },
     "output_type": "display_data"
    }
   ],
   "source": [
    "plt.title('Daily Confirmed')\n",
    "plt.ylabel('Confirmed Cases')\n",
    "plt.grid(True)\n",
    "plt.autoscale(axis='x', tight=True)\n",
    "\n",
    "plt.plot(df['Daily Confirmed'][-train_window:])\n",
    "plt.plot(x,actual_predictions)\n",
    "plt.show()"
   ]
  },
  {
   "cell_type": "code",
   "execution_count": null,
   "metadata": {},
   "outputs": [],
   "source": []
  }
 ],
 "metadata": {
  "kernelspec": {
   "display_name": "Python 3",
   "language": "python",
   "name": "python3"
  },
  "language_info": {
   "codemirror_mode": {
    "name": "ipython",
    "version": 3
   },
   "file_extension": ".py",
   "mimetype": "text/x-python",
   "name": "python",
   "nbconvert_exporter": "python",
   "pygments_lexer": "ipython3",
   "version": "3.7.6"
  }
 },
 "nbformat": 4,
 "nbformat_minor": 4
}
